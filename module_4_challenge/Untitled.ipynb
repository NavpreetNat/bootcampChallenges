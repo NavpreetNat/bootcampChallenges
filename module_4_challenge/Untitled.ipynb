{
 "cells": [
  {
   "cell_type": "code",
   "execution_count": 1,
   "id": "ecaa33a3-a17e-4f95-89f8-2e564746abfd",
   "metadata": {},
   "outputs": [],
   "source": [
    "# Initial imports\n",
    "import pandas as pd\n",
    "import numpy as np\n",
    "import datetime as dt\n",
    "from pathlib import Path\n",
    "\n",
    "%matplotlib inline"
   ]
  },
  {
   "cell_type": "code",
   "execution_count": 2,
   "id": "6558ee43-d110-424d-b9c1-689b812f2e17",
   "metadata": {},
   "outputs": [],
   "source": [
    "# CREATE A PATH TO THE FILE\n",
    "csvpath_1 = Path(\"C:/Users/navpr/Downloads/test.csv\")"
   ]
  },
  {
   "cell_type": "code",
   "execution_count": 4,
   "id": "4a6c9063-2d38-4763-860e-b49ecb4b8d8e",
   "metadata": {},
   "outputs": [],
   "source": [
    "# CREATE A DATAFRAME FROM THE CSV FILE\n",
    "test_df = pd.read_csv(csvpath_1)"
   ]
  },
  {
   "cell_type": "code",
   "execution_count": 5,
   "id": "53fc6c07-b73b-4041-a408-fbd8d77cde39",
   "metadata": {},
   "outputs": [
    {
     "data": {
      "text/plain": [
       "id                                                            object\n",
       "symbol                                                        object\n",
       "name                                                          object\n",
       "localization.en                                               object\n",
       "localization.de                                               object\n",
       "                                                              ...   \n",
       "developer_data.code_additions_deletions_4_weeks.additions      int64\n",
       "developer_data.code_additions_deletions_4_weeks.deletions      int64\n",
       "developer_data.commit_count_4_weeks                            int64\n",
       "public_interest_stats.alexa_rank                             float64\n",
       "public_interest_stats.bing_matches                           float64\n",
       "Length: 234, dtype: object"
      ]
     },
     "execution_count": 5,
     "metadata": {},
     "output_type": "execute_result"
    }
   ],
   "source": [
    "## IDENTIFY DATAFRAME DATA TYPES\n",
    "test_df.dtypes"
   ]
  },
  {
   "cell_type": "code",
   "execution_count": 6,
   "id": "7210c520-0681-488a-b409-390d7329dec0",
   "metadata": {},
   "outputs": [
    {
     "data": {
      "text/html": [
       "<div>\n",
       "<style scoped>\n",
       "    .dataframe tbody tr th:only-of-type {\n",
       "        vertical-align: middle;\n",
       "    }\n",
       "\n",
       "    .dataframe tbody tr th {\n",
       "        vertical-align: top;\n",
       "    }\n",
       "\n",
       "    .dataframe thead th {\n",
       "        text-align: right;\n",
       "    }\n",
       "</style>\n",
       "<table border=\"1\" class=\"dataframe\">\n",
       "  <thead>\n",
       "    <tr style=\"text-align: right;\">\n",
       "      <th></th>\n",
       "      <th>id</th>\n",
       "      <th>symbol</th>\n",
       "      <th>name</th>\n",
       "      <th>localization.en</th>\n",
       "      <th>localization.de</th>\n",
       "      <th>localization.es</th>\n",
       "      <th>localization.fr</th>\n",
       "      <th>localization.it</th>\n",
       "      <th>localization.pl</th>\n",
       "      <th>localization.ro</th>\n",
       "      <th>...</th>\n",
       "      <th>developer_data.subscribers</th>\n",
       "      <th>developer_data.total_issues</th>\n",
       "      <th>developer_data.closed_issues</th>\n",
       "      <th>developer_data.pull_requests_merged</th>\n",
       "      <th>developer_data.pull_request_contributors</th>\n",
       "      <th>developer_data.code_additions_deletions_4_weeks.additions</th>\n",
       "      <th>developer_data.code_additions_deletions_4_weeks.deletions</th>\n",
       "      <th>developer_data.commit_count_4_weeks</th>\n",
       "      <th>public_interest_stats.alexa_rank</th>\n",
       "      <th>public_interest_stats.bing_matches</th>\n",
       "    </tr>\n",
       "  </thead>\n",
       "  <tbody>\n",
       "    <tr>\n",
       "      <th>0</th>\n",
       "      <td>bitcoin</td>\n",
       "      <td>btc</td>\n",
       "      <td>Bitcoin</td>\n",
       "      <td>Bitcoin</td>\n",
       "      <td>Bitcoin</td>\n",
       "      <td>Bitcoin</td>\n",
       "      <td>Bitcoin</td>\n",
       "      <td>Bitcoin</td>\n",
       "      <td>Bitcoin</td>\n",
       "      <td>Bitcoin</td>\n",
       "      <td>...</td>\n",
       "      <td>3528</td>\n",
       "      <td>4409</td>\n",
       "      <td>3785</td>\n",
       "      <td>6068</td>\n",
       "      <td>560</td>\n",
       "      <td>694</td>\n",
       "      <td>-371</td>\n",
       "      <td>180</td>\n",
       "      <td>NaN</td>\n",
       "      <td>NaN</td>\n",
       "    </tr>\n",
       "  </tbody>\n",
       "</table>\n",
       "<p>1 rows × 234 columns</p>\n",
       "</div>"
      ],
      "text/plain": [
       "        id symbol     name localization.en localization.de localization.es  \\\n",
       "0  bitcoin    btc  Bitcoin         Bitcoin         Bitcoin         Bitcoin   \n",
       "\n",
       "  localization.fr localization.it localization.pl localization.ro  ...  \\\n",
       "0         Bitcoin         Bitcoin         Bitcoin         Bitcoin  ...   \n",
       "\n",
       "  developer_data.subscribers developer_data.total_issues  \\\n",
       "0                       3528                        4409   \n",
       "\n",
       "  developer_data.closed_issues developer_data.pull_requests_merged  \\\n",
       "0                         3785                                6068   \n",
       "\n",
       "  developer_data.pull_request_contributors  \\\n",
       "0                                      560   \n",
       "\n",
       "  developer_data.code_additions_deletions_4_weeks.additions  \\\n",
       "0                                                694          \n",
       "\n",
       "  developer_data.code_additions_deletions_4_weeks.deletions  \\\n",
       "0                                               -371          \n",
       "\n",
       "  developer_data.commit_count_4_weeks public_interest_stats.alexa_rank  \\\n",
       "0                                 180                              NaN   \n",
       "\n",
       "  public_interest_stats.bing_matches  \n",
       "0                                NaN  \n",
       "\n",
       "[1 rows x 234 columns]"
      ]
     },
     "execution_count": 6,
     "metadata": {},
     "output_type": "execute_result"
    }
   ],
   "source": [
    "test_df"
   ]
  },
  {
   "cell_type": "code",
   "execution_count": null,
   "id": "d152d63f-ff22-4bed-ba5b-65279b464a79",
   "metadata": {},
   "outputs": [],
   "source": []
  }
 ],
 "metadata": {
  "kernelspec": {
   "display_name": "Python 3 (ipykernel)",
   "language": "python",
   "name": "python3"
  },
  "language_info": {
   "codemirror_mode": {
    "name": "ipython",
    "version": 3
   },
   "file_extension": ".py",
   "mimetype": "text/x-python",
   "name": "python",
   "nbconvert_exporter": "python",
   "pygments_lexer": "ipython3",
   "version": "3.9.12"
  }
 },
 "nbformat": 4,
 "nbformat_minor": 5
}
